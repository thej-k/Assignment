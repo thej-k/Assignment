{
  "nbformat": 4,
  "nbformat_minor": 0,
  "metadata": {
    "colab": {
      "provenance": []
    },
    "kernelspec": {
      "name": "python3",
      "display_name": "Python 3"
    },
    "language_info": {
      "name": "python"
    }
  },
  "cells": [
    {
      "cell_type": "code",
      "execution_count": 28,
      "metadata": {
        "id": "TehJQxcTNOWc"
      },
      "outputs": [],
      "source": [
        "import numpy as np\n",
        "import matplotlib.pyplot as plt\n",
        "import random\n"
      ]
    },
    {
      "cell_type": "code",
      "source": [
        "class Maze:\n",
        "  def __init__(self, maze, start_position, goal_position):\n",
        "    self.maze = maze\n",
        "    self.maze_height = maze_layout.shape[0]\n",
        "    self.maze_width = maze_layout.shape[1]\n",
        "    self.start_position = start_position\n",
        "    self.goal_position = goal_position\n",
        "\n",
        "  def show_maze(self):\n",
        "    plt.figure(figsize=(10,10))\n",
        "    plt.imshow(self.maze, cmap='gray')\n",
        "\n",
        "    #Add start and goal position as 'S' and 'G'\n",
        "    plt.text(self.start_position[0], self.start_position[1], 'START', ha='center', va='center', color='blue', fontsize=12)\n",
        "    plt.text(self.goal_position[0], self.goal_position[1], 'GOAL', ha='center', va='center', color='blue', fontsize=12)\n",
        "\n",
        "    plt.show()\n",
        "\n"
      ],
      "metadata": {
        "id": "jRgVXmTCPFv5"
      },
      "execution_count": 29,
      "outputs": []
    },
    {
      "cell_type": "code",
      "source": [
        "# Create maze layout\n",
        "maze_layout = np.array([\n",
        "    [0, 0, 0, 0, 0, 0, 0, 0, 0, 0],\n",
        "    [0, 1, 0, 1, 1, 1, 1, 1, 1, 0],\n",
        "    [0, 1, 1, 1, 0, 1, 1, 0, 1, 0],\n",
        "    [0, 0, 0, 1, 0, 1, 0, 0, 1, 0],\n",
        "    [0, 1, 1, 1, 1, 1, 1, 1, 1, 0],\n",
        "    [0, 1, 0, 1, 0, 0, 0, 0, 0, 0],\n",
        "    [0, 1, 0, 1, 0, 1, 1, 1, 1, 0],\n",
        "    [0, 1, 0, 0, 0, 1, 0, 0, 1, 0],\n",
        "    [0, 1, 1, 1, 1, 1, 1, 0, 1, 0],\n",
        "    [0, 0, 0, 0, 0, 0, 0, 0, 0, 0]\n",
        "])\n",
        "\n",
        "# Create an instance of the maze and set the starting and ending positions\n",
        "maze = Maze(maze_layout, (1, 1), (8, 8))\n",
        "\n",
        "maze.show_maze()"
      ],
      "metadata": {
        "colab": {
          "base_uri": "https://localhost:8080/",
          "height": 806
        },
        "id": "afZMKJjNS-eL",
        "outputId": "df064b78-c26f-4f85-bd81-5e9c1bfc8e2a"
      },
      "execution_count": null,
      "outputs": [
        {
          "output_type": "display_data",
          "data": {
            "text/plain": [
              "<Figure size 1000x1000 with 1 Axes>"
            ],
            "image/png": "[encoded data removed]"
          },
          "metadata": {}
        }
      ]
    },
    {
      "cell_type": "code",
      "source": [],
      "metadata": {
        "id": "_-SeOw9oVNmv"
      },
      "execution_count": null,
      "outputs": []
    },
    {
      "cell_type": "markdown",
      "source": [
        "#### Implementing the Agent"
      ],
      "metadata": {
        "id": "sGbS4-ZYZqup"
      }
    },
    {
      "cell_type": "code",
      "source": [
        "actions = [(-1, 0), # Up\n",
        "           (1, 0), # Down\n",
        "           (0, -1), # Left\n",
        "           (0, 1)] # Right\n",
        "\n",
        "class QLearningAgent:\n",
        "    def __init__(self, maze, learning_rate=0.1, discount_factor=0.9, exploration_start=1.0, exploration_end=0.01, num_episodes=100):\n",
        "      # Initialize the Q-learning agent with a Q-table contanining all zeros\n",
        "      self.q_table = np.zeros((maze.maze_height, maze.maze_width, 4))\n",
        "      self.learning_rate = learning_rate\n",
        "      self.discount_factor = discount_factor\n",
        "      self.exploration_start = exploration_start\n",
        "      self.exploration_end = exploration_end\n",
        "      self.num_episodes = num_episodes\n",
        "\n",
        "    def get_exploration_rate(self, current_episode):\n",
        "      # Calculate the current exploration rate\n",
        "      exploration_rate = self.exploration_start * (self.exploration_end / self.exploration_start) ** (current_episode / self.num_episodes)\n",
        "      return exploration_rate\n",
        "\n",
        "    def get_action(self, state, current_episode):\n",
        "      exploration_rate = self.get_exploration_rate(current_episode)\n",
        "      # Select an action for the given state either randomly(exploration) od using Q-table(exploitation)\n",
        "      if np.random.rand() < exploration_rate:\n",
        "          return np.random.randint(4)\n",
        "      else:\n",
        "          return np.argmax(self.q_table[state])\n",
        "\n",
        "    def update_q_table(self, state, action, next_state, reward):\n",
        "      # find the best next action\n",
        "      best_next_action = np.argmax(self.q_table[next_state])\n",
        "\n",
        "      # get the current q value for the current state and the action\n",
        "      current_q_value = self.q_table[state][action]\n",
        "\n",
        "      # Q value update using Q learning formula\n",
        "      new_q_value = current_q_value + self.learning_rate * (reward + self.discount_factor * self.q_table[next_state][best_next_action] - current_q_value)\n",
        "\n",
        "      return new_q_value"
      ],
      "metadata": {
        "id": "Ji04Etf4ZwoJ"
      },
      "execution_count": null,
      "outputs": []
    },
    {
      "cell_type": "code",
      "source": [],
      "metadata": {
        "id": "TSCO9Osae6Fb"
      },
      "execution_count": null,
      "outputs": []
    },
    {
      "cell_type": "markdown",
      "source": [
        "#### Defining the Reward System"
      ],
      "metadata": {
        "id": "o9MVd9DWe7j3"
      }
    },
    {
      "cell_type": "code",
      "source": [
        "goal_reward = 100\n",
        "wall_penalty = -10\n",
        "step_penalty = -1"
      ],
      "metadata": {
        "id": "H8R_JhXrfAHp"
      },
      "execution_count": null,
      "outputs": []
    },
    {
      "cell_type": "code",
      "source": [],
      "metadata": {
        "id": "XMEm5iH3fbpw"
      },
      "execution_count": null,
      "outputs": []
    },
    {
      "cell_type": "markdown",
      "source": [
        "#### Testing the Agent"
      ],
      "metadata": {
        "id": "KNTIezxufclw"
      }
    },
    {
      "cell_type": "code",
      "source": [
        "# This function simulates the agent's movement in the maze for a single episode\n",
        "def finish_episode(agent, maze, current_episode, train=True):\n",
        "    current_state = maze.start_position\n",
        "    is_done = False\n",
        "    episode_reward = 0\n",
        "    episode_step = 0\n",
        "    path = [current_state]\n",
        "\n",
        "    while not is_done:\n",
        "        # Agent's action for current state\n",
        "        action = agent.get_action(current_state, current_episode)\n",
        "\n",
        "        next_state = (current_state[0] + actions[action][0], current_state[1] + actions[action][1])\n",
        "\n",
        "        # Check if the next state is out of bounds or hitting a wall\n",
        "        if next_state[0] < 1 or next_state[0] >= maze.maze_height or next_state[1] < 1 or next_state[1] >= maze.maze_width or maze.maze[next_state[1]][next_state[0]] == 0:\n",
        "            reward = wall_penalty\n",
        "            next_state = current_state\n",
        "        elif next_state == maze.goal_position:\n",
        "            path.append(current_state)\n",
        "            reward = goal_reward\n",
        "            is_done = True\n",
        "        else:\n",
        "            path.append(current_state)\n",
        "            reward = step_penalty\n",
        "\n",
        "        episode_reward += reward\n",
        "        episode_step += 1\n",
        "\n",
        "        # Update agent's Q-table if training is enabled\n",
        "        if train == True:\n",
        "            agent.update_q_table(current_state, action, next_state, reward)\n",
        "\n",
        "        current_state = next_state\n",
        "\n",
        "    return episode_reward, episode_step, path"
      ],
      "metadata": {
        "id": "nzV1PpRhfhDG"
      },
      "execution_count": null,
      "outputs": []
    },
    {
      "cell_type": "code",
      "source": [
        "# This function evaluates an agent's performance in the maze\n",
        "def test_agent(agent, maze, num_episodes=1):\n",
        "    episode_reward, episode_step, path = finish_episode(agent, maze, num_episodes, train=False)\n",
        "\n",
        "    # Print the Learned path of the agent\n",
        "    print('Learned Path: ')\n",
        "    for row, col in path:\n",
        "        print(f\"({row}, {col})-> \", end='')\n",
        "    print(\"Goal!\")\n",
        "\n",
        "    print(\"Number of steps:\", episode_step)\n",
        "    print(\"Total reward:\", episode_reward)\n",
        "\n",
        "    if plt.gcf().get_axes():\n",
        "        plt.cla()\n",
        "\n",
        "    plt.figure(figsize=(10,10))\n",
        "    plt.imshow(maze.maze, cmap='gray')\n",
        "\n",
        "    plt.text(maze.start_position[0], maze.start_position[1], 'START', ha='center', va='center', color='blue', fontsize=12)\n",
        "    plt.text(maze.goal_position[0], maze.goal_position[1], 'GOAL', ha='center', va='center', color='blue', fontsize=12)\n",
        "\n",
        "    for position in path:\n",
        "        plt.text(position[0], position[1], '#', va='center', color='blue', fontsize=16)\n",
        "\n",
        "    plt.show()\n",
        "\n",
        "    return episode_step, episode_reward\n",
        "\n",
        "agent = QLearningAgent(maze)\n",
        "test_agent(agent, maze)"
      ],
      "metadata": {
        "colab": {
          "base_uri": "https://localhost:8080/",
          "height": 930
        },
        "id": "k0YmzAguj2iE",
        "outputId": "4a162802-d82d-4e7a-ca54-6ef081ced41c"
      },
      "execution_count": null,
      "outputs": [
        {
          "output_type": "stream",
          "name": "stdout",
          "text": [
            "Learned Path: \n",
            "(1, 1)-> (1, 1)-> (1, 2)-> (2, 2)-> (3, 2)-> (2, 2)-> (3, 2)-> (2, 2)-> (1, 2)-> (1, 1)-> (1, 2)-> (2, 2)-> (1, 2)-> (2, 2)-> (1, 2)-> (2, 2)-> (3, 2)-> (2, 2)-> (1, 2)-> (2, 2)-> (1, 2)-> (1, 1)-> (1, 2)-> (1, 1)-> (1, 2)-> (1, 1)-> (1, 2)-> (1, 1)-> (1, 2)-> (2, 2)-> (3, 2)-> (2, 2)-> (3, 2)-> (2, 2)-> (1, 2)-> (2, 2)-> (3, 2)-> (3, 1)-> (3, 2)-> (2, 2)-> (3, 2)-> (3, 1)-> (3, 2)-> (2, 2)-> (1, 2)-> (2, 2)-> (1, 2)-> (1, 1)-> (1, 2)-> (1, 1)-> (1, 2)-> (2, 2)-> (3, 2)-> (3, 3)-> (3, 2)-> (3, 1)-> (4, 1)-> (3, 1)-> (3, 2)-> (3, 3)-> (3, 4)-> (4, 4)-> (3, 4)-> (4, 4)-> (3, 4)-> (4, 4)-> (5, 4)-> (4, 4)-> (3, 4)-> (2, 4)-> (1, 4)-> (1, 5)-> (1, 4)-> (1, 5)-> (1, 4)-> (1, 5)-> (1, 6)-> (1, 5)-> (1, 4)-> (1, 5)-> (1, 6)-> (1, 7)-> (1, 8)-> (1, 7)-> (1, 8)-> (2, 8)-> (1, 8)-> (1, 7)-> (1, 6)-> (1, 5)-> (1, 4)-> (1, 5)-> (1, 4)-> (2, 4)-> (1, 4)-> (1, 5)-> (1, 4)-> (2, 4)-> (1, 4)-> (2, 4)-> (3, 4)-> (3, 5)-> (3, 6)-> (3, 5)-> (3, 6)-> (3, 5)-> (3, 4)-> (3, 3)-> (3, 2)-> (3, 1)-> (3, 2)-> (2, 2)-> (1, 2)-> (2, 2)-> (3, 2)-> (2, 2)-> (1, 2)-> (2, 2)-> (3, 2)-> (3, 3)-> (3, 4)-> (3, 3)-> (3, 4)-> (3, 3)-> (3, 2)-> (3, 1)-> (4, 1)-> (3, 1)-> (4, 1)-> (3, 1)-> (3, 2)-> (3, 1)-> (4, 1)-> (5, 1)-> (6, 1)-> (5, 1)-> (4, 1)-> (3, 1)-> (4, 1)-> (3, 1)-> (4, 1)-> (3, 1)-> (3, 2)-> (3, 1)-> (3, 2)-> (3, 1)-> (3, 2)-> (3, 1)-> (4, 1)-> (5, 1)-> (6, 1)-> (6, 2)-> (5, 2)-> (5, 1)-> (6, 1)-> (7, 1)-> (8, 1)-> (8, 2)-> (8, 1)-> (8, 2)-> (8, 1)-> (8, 2)-> (8, 3)-> (8, 2)-> (8, 3)-> (8, 2)-> (8, 3)-> (8, 2)-> (8, 1)-> (7, 1)-> (6, 1)-> (7, 1)-> (8, 1)-> (7, 1)-> (6, 1)-> (7, 1)-> (6, 1)-> (5, 1)-> (6, 1)-> (5, 1)-> (6, 1)-> (5, 1)-> (5, 2)-> (6, 2)-> (6, 1)-> (6, 2)-> (6, 1)-> (5, 1)-> (4, 1)-> (3, 1)-> (4, 1)-> (5, 1)-> (5, 2)-> (6, 2)-> (6, 1)-> (6, 2)-> (6, 1)-> (5, 1)-> (5, 2)-> (5, 3)-> (5, 4)-> (4, 4)-> (3, 4)-> (3, 5)-> (3, 4)-> (3, 5)-> (3, 6)-> (3, 5)-> (3, 4)-> (3, 3)-> (3, 4)-> (2, 4)-> (1, 4)-> (2, 4)-> (3, 4)-> (3, 5)-> (3, 4)-> (3, 3)-> (3, 2)-> (2, 2)-> (1, 2)-> (1, 1)-> (1, 2)-> (2, 2)-> (3, 2)-> (3, 1)-> (4, 1)-> (5, 1)-> (5, 2)-> (5, 3)-> (5, 4)-> (6, 4)-> (7, 4)-> (6, 4)-> (5, 4)-> (4, 4)-> (5, 4)-> (4, 4)-> (3, 4)-> (4, 4)-> (5, 4)-> (4, 4)-> (3, 4)-> (3, 3)-> (3, 2)-> (2, 2)-> (1, 2)-> (1, 1)-> (1, 2)-> (1, 1)-> (1, 2)-> (1, 1)-> (1, 2)-> (2, 2)-> (3, 2)-> (2, 2)-> (3, 2)-> (2, 2)-> (1, 2)-> (2, 2)-> (1, 2)-> (1, 1)-> (1, 2)-> (2, 2)-> (1, 2)-> (1, 1)-> (1, 2)-> (2, 2)-> (3, 2)-> (3, 3)-> (3, 4)-> (3, 3)-> (3, 4)-> (2, 4)-> (1, 4)-> (1, 5)-> (1, 6)-> (1, 7)-> (1, 6)-> (1, 7)-> (1, 6)-> (1, 7)-> (1, 6)-> (1, 5)-> (1, 6)-> (1, 7)-> (1, 8)-> (1, 7)-> (1, 6)-> (1, 5)-> (1, 4)-> (2, 4)-> (1, 4)-> (1, 5)-> (1, 4)-> (1, 5)-> (1, 6)-> (1, 7)-> (1, 6)-> (1, 7)-> (1, 8)-> (1, 7)-> (1, 8)-> (2, 8)-> (3, 8)-> (4, 8)-> (5, 8)-> (6, 8)-> (5, 8)-> (5, 7)-> (5, 6)-> (6, 6)-> (5, 6)-> (5, 7)-> (5, 6)-> (6, 6)-> (7, 6)-> (6, 6)-> (7, 6)-> (8, 6)-> (7, 6)-> (8, 6)-> (8, 7)-> Goal!\n",
            "Number of steps: 603\n",
            "Total reward: -3031\n"
          ]
        },
        {
          "output_type": "display_data",
          "data": {
            "text/plain": [
              "<Figure size 640x480 with 0 Axes>"
            ]
          },
          "metadata": {}
        },
        {
          "output_type": "display_data",
          "data": {
            "text/plain": [
              "<Figure size 1000x1000 with 1 Axes>"
            ],
            "image/png": "[encoded data removed]"
          },
          "metadata": {}
        },
        {
          "output_type": "execute_result",
          "data": {
            "text/plain": [
              "(603, -3031)"
            ]
          },
          "metadata": {},
          "execution_count": 23
        }
      ]
    },
    {
      "cell_type": "code",
      "source": [
        "def train_agent(agent, maze, num_episodes=100):\n",
        "    episode_rewards = []\n",
        "    episode_steps = []\n",
        "\n",
        "    for episode in range(num_episodes):\n",
        "        episode_reward, episode_step, path = finish_episode(agent, maze, episode, train=True)\n",
        "\n",
        "        episode_rewards.append(episode_reward)\n",
        "        episode_steps.append(episode_step)\n",
        "\n",
        "    plt.figure(figsize=(10, 5))\n",
        "    plt.subplot(1, 2, 1)\n",
        "    plt.plot(episode_rewards)\n",
        "    plt.xlabel('Episode')\n",
        "    plt.ylabel('Cumulative Reward')\n",
        "    plt.title('Reward per episode')\n",
        "\n",
        "    average_reward = sum(episode_rewards) / len(episode_rewards)\n",
        "    print(f'The average reward is: {average_reward}')\n",
        "\n",
        "    plt.subplot(1, 2, 2)\n",
        "    plt.plot(episode_steps)\n",
        "    plt.xlabel('Episode')\n",
        "    plt.ylabel('Steps Taken')\n",
        "    plt.ylim(0, 100)\n",
        "    plt.title('Steps per episode')\n",
        "\n",
        "    average_steps = sum(episode_steps) / len(episode_steps)\n",
        "    print(f'The average step is: {average_steps}')\n",
        "\n",
        "    plt.tight_layout()\n",
        "    plt.show()\n"
      ],
      "metadata": {
        "id": "3F83JTBSmxzd"
      },
      "execution_count": null,
      "outputs": []
    },
    {
      "cell_type": "code",
      "source": [
        "train_agent(agent, maze, num_episodes=100)"
      ],
      "metadata": {
        "id": "7mVxd96AqBZq",
        "colab": {
          "base_uri": "https://localhost:8080/",
          "height": 287
        },
        "outputId": "2efefe4a-b2d6-4657-dc4f-a404c26a51b7"
      },
      "execution_count": null,
      "outputs": [
        {
          "output_type": "error",
          "ename": "KeyboardInterrupt",
          "evalue": "",
          "traceback": [
            "\u001b[0;31m---------------------------------------------------------------------------\u001b[0m",
            "\u001b[0;31mKeyboardInterrupt\u001b[0m                         Traceback (most recent call last)",
            "\u001b[0;32m<ipython-input-26-1d2cce625092>\u001b[0m in \u001b[0;36m<cell line: 1>\u001b[0;34m()\u001b[0m\n\u001b[0;32m----> 1\u001b[0;31m \u001b[0mtrain_agent\u001b[0m\u001b[0;34m(\u001b[0m\u001b[0magent\u001b[0m\u001b[0;34m,\u001b[0m \u001b[0mmaze\u001b[0m\u001b[0;34m,\u001b[0m \u001b[0mnum_episodes\u001b[0m\u001b[0;34m=\u001b[0m\u001b[0;36m100\u001b[0m\u001b[0;34m)\u001b[0m\u001b[0;34m\u001b[0m\u001b[0;34m\u001b[0m\u001b[0m\n\u001b[0m",
            "\u001b[0;32m<ipython-input-25-d4014475d7a0>\u001b[0m in \u001b[0;36mtrain_agent\u001b[0;34m(agent, maze, num_episodes)\u001b[0m\n\u001b[1;32m      4\u001b[0m \u001b[0;34m\u001b[0m\u001b[0m\n\u001b[1;32m      5\u001b[0m     \u001b[0;32mfor\u001b[0m \u001b[0mepisode\u001b[0m \u001b[0;32min\u001b[0m \u001b[0mrange\u001b[0m\u001b[0;34m(\u001b[0m\u001b[0mnum_episodes\u001b[0m\u001b[0;34m)\u001b[0m\u001b[0;34m:\u001b[0m\u001b[0;34m\u001b[0m\u001b[0;34m\u001b[0m\u001b[0m\n\u001b[0;32m----> 6\u001b[0;31m         \u001b[0mepisode_reward\u001b[0m\u001b[0;34m,\u001b[0m \u001b[0mepisode_step\u001b[0m\u001b[0;34m,\u001b[0m \u001b[0mpath\u001b[0m \u001b[0;34m=\u001b[0m \u001b[0mfinish_episode\u001b[0m\u001b[0;34m(\u001b[0m\u001b[0magent\u001b[0m\u001b[0;34m,\u001b[0m \u001b[0mmaze\u001b[0m\u001b[0;34m,\u001b[0m \u001b[0mepisode\u001b[0m\u001b[0;34m,\u001b[0m \u001b[0mtrain\u001b[0m\u001b[0;34m=\u001b[0m\u001b[0;32mTrue\u001b[0m\u001b[0;34m)\u001b[0m\u001b[0;34m\u001b[0m\u001b[0;34m\u001b[0m\u001b[0m\n\u001b[0m\u001b[1;32m      7\u001b[0m \u001b[0;34m\u001b[0m\u001b[0m\n\u001b[1;32m      8\u001b[0m         \u001b[0mepisode_rewards\u001b[0m\u001b[0;34m.\u001b[0m\u001b[0mappend\u001b[0m\u001b[0;34m(\u001b[0m\u001b[0mepisode_reward\u001b[0m\u001b[0;34m)\u001b[0m\u001b[0;34m\u001b[0m\u001b[0;34m\u001b[0m\u001b[0m\n",
            "\u001b[0;32m<ipython-input-22-3463484398e1>\u001b[0m in \u001b[0;36mfinish_episode\u001b[0;34m(agent, maze, current_episode, train)\u001b[0m\n\u001b[1;32m      9\u001b[0m     \u001b[0;32mwhile\u001b[0m \u001b[0;32mnot\u001b[0m \u001b[0mis_done\u001b[0m\u001b[0;34m:\u001b[0m\u001b[0;34m\u001b[0m\u001b[0;34m\u001b[0m\u001b[0m\n\u001b[1;32m     10\u001b[0m         \u001b[0;31m# Agent's action for current state\u001b[0m\u001b[0;34m\u001b[0m\u001b[0;34m\u001b[0m\u001b[0m\n\u001b[0;32m---> 11\u001b[0;31m         \u001b[0maction\u001b[0m \u001b[0;34m=\u001b[0m \u001b[0magent\u001b[0m\u001b[0;34m.\u001b[0m\u001b[0mget_action\u001b[0m\u001b[0;34m(\u001b[0m\u001b[0mcurrent_state\u001b[0m\u001b[0;34m,\u001b[0m \u001b[0mcurrent_episode\u001b[0m\u001b[0;34m)\u001b[0m\u001b[0;34m\u001b[0m\u001b[0;34m\u001b[0m\u001b[0m\n\u001b[0m\u001b[1;32m     12\u001b[0m \u001b[0;34m\u001b[0m\u001b[0m\n\u001b[1;32m     13\u001b[0m         \u001b[0mnext_state\u001b[0m \u001b[0;34m=\u001b[0m \u001b[0;34m(\u001b[0m\u001b[0mcurrent_state\u001b[0m\u001b[0;34m[\u001b[0m\u001b[0;36m0\u001b[0m\u001b[0;34m]\u001b[0m \u001b[0;34m+\u001b[0m \u001b[0mactions\u001b[0m\u001b[0;34m[\u001b[0m\u001b[0maction\u001b[0m\u001b[0;34m]\u001b[0m\u001b[0;34m[\u001b[0m\u001b[0;36m0\u001b[0m\u001b[0;34m]\u001b[0m\u001b[0;34m,\u001b[0m \u001b[0mcurrent_state\u001b[0m\u001b[0;34m[\u001b[0m\u001b[0;36m1\u001b[0m\u001b[0;34m]\u001b[0m \u001b[0;34m+\u001b[0m \u001b[0mactions\u001b[0m\u001b[0;34m[\u001b[0m\u001b[0maction\u001b[0m\u001b[0;34m]\u001b[0m\u001b[0;34m[\u001b[0m\u001b[0;36m1\u001b[0m\u001b[0;34m]\u001b[0m\u001b[0;34m)\u001b[0m\u001b[0;34m\u001b[0m\u001b[0;34m\u001b[0m\u001b[0m\n",
            "\u001b[0;32m<ipython-input-20-44c4189e0dd0>\u001b[0m in \u001b[0;36mget_action\u001b[0;34m(self, state, current_episode)\u001b[0m\n\u001b[1;32m     25\u001b[0m           \u001b[0;32mreturn\u001b[0m \u001b[0mnp\u001b[0m\u001b[0;34m.\u001b[0m\u001b[0mrandom\u001b[0m\u001b[0;34m.\u001b[0m\u001b[0mrandint\u001b[0m\u001b[0;34m(\u001b[0m\u001b[0;36m4\u001b[0m\u001b[0;34m)\u001b[0m\u001b[0;34m\u001b[0m\u001b[0;34m\u001b[0m\u001b[0m\n\u001b[1;32m     26\u001b[0m       \u001b[0;32melse\u001b[0m\u001b[0;34m:\u001b[0m\u001b[0;34m\u001b[0m\u001b[0;34m\u001b[0m\u001b[0m\n\u001b[0;32m---> 27\u001b[0;31m           \u001b[0;32mreturn\u001b[0m \u001b[0mnp\u001b[0m\u001b[0;34m.\u001b[0m\u001b[0margmax\u001b[0m\u001b[0;34m(\u001b[0m\u001b[0mself\u001b[0m\u001b[0;34m.\u001b[0m\u001b[0mq_table\u001b[0m\u001b[0;34m[\u001b[0m\u001b[0mstate\u001b[0m\u001b[0;34m]\u001b[0m\u001b[0;34m)\u001b[0m\u001b[0;34m\u001b[0m\u001b[0;34m\u001b[0m\u001b[0m\n\u001b[0m\u001b[1;32m     28\u001b[0m \u001b[0;34m\u001b[0m\u001b[0m\n\u001b[1;32m     29\u001b[0m     \u001b[0;32mdef\u001b[0m \u001b[0mupdate_q_table\u001b[0m\u001b[0;34m(\u001b[0m\u001b[0mself\u001b[0m\u001b[0;34m,\u001b[0m \u001b[0mstate\u001b[0m\u001b[0;34m,\u001b[0m \u001b[0maction\u001b[0m\u001b[0;34m,\u001b[0m \u001b[0mnext_state\u001b[0m\u001b[0;34m,\u001b[0m \u001b[0mreward\u001b[0m\u001b[0;34m)\u001b[0m\u001b[0;34m:\u001b[0m\u001b[0;34m\u001b[0m\u001b[0;34m\u001b[0m\u001b[0m\n",
            "\u001b[0;32m/usr/local/lib/python3.10/dist-packages/numpy/core/fromnumeric.py\u001b[0m in \u001b[0;36m_argmax_dispatcher\u001b[0;34m(a, axis, out, keepdims)\u001b[0m\n\u001b[1;32m   1134\u001b[0m \u001b[0;34m\u001b[0m\u001b[0m\n\u001b[1;32m   1135\u001b[0m \u001b[0;34m\u001b[0m\u001b[0m\n\u001b[0;32m-> 1136\u001b[0;31m \u001b[0;32mdef\u001b[0m \u001b[0m_argmax_dispatcher\u001b[0m\u001b[0;34m(\u001b[0m\u001b[0ma\u001b[0m\u001b[0;34m,\u001b[0m \u001b[0maxis\u001b[0m\u001b[0;34m=\u001b[0m\u001b[0;32mNone\u001b[0m\u001b[0;34m,\u001b[0m \u001b[0mout\u001b[0m\u001b[0;34m=\u001b[0m\u001b[0;32mNone\u001b[0m\u001b[0;34m,\u001b[0m \u001b[0;34m*\u001b[0m\u001b[0;34m,\u001b[0m \u001b[0mkeepdims\u001b[0m\u001b[0;34m=\u001b[0m\u001b[0mnp\u001b[0m\u001b[0;34m.\u001b[0m\u001b[0m_NoValue\u001b[0m\u001b[0;34m)\u001b[0m\u001b[0;34m:\u001b[0m\u001b[0;34m\u001b[0m\u001b[0;34m\u001b[0m\u001b[0m\n\u001b[0m\u001b[1;32m   1137\u001b[0m     \u001b[0;32mreturn\u001b[0m \u001b[0;34m(\u001b[0m\u001b[0ma\u001b[0m\u001b[0;34m,\u001b[0m \u001b[0mout\u001b[0m\u001b[0;34m)\u001b[0m\u001b[0;34m\u001b[0m\u001b[0;34m\u001b[0m\u001b[0m\n\u001b[1;32m   1138\u001b[0m \u001b[0;34m\u001b[0m\u001b[0m\n",
            "\u001b[0;31mKeyboardInterrupt\u001b[0m: "
          ]
        }
      ]
    },
    {
      "cell_type": "code",
      "source": [
        "test_agent(agent, maze, num_episodes=50)"
      ],
      "metadata": {
        "id": "P3CwOQsUqT1R",
        "colab": {
          "base_uri": "https://localhost:8080/",
          "height": 287
        },
        "outputId": "07c65019-8618-4a95-a00a-d60d7cbd7bd2"
      },
      "execution_count": 31,
      "outputs": [
        {
          "output_type": "error",
          "ename": "KeyboardInterrupt",
          "evalue": "",
          "traceback": [
            "\u001b[0;31m---------------------------------------------------------------------------\u001b[0m",
            "\u001b[0;31mKeyboardInterrupt\u001b[0m                         Traceback (most recent call last)",
            "\u001b[0;32m<ipython-input-31-b7168331481c>\u001b[0m in \u001b[0;36m<cell line: 1>\u001b[0;34m()\u001b[0m\n\u001b[0;32m----> 1\u001b[0;31m \u001b[0mtest_agent\u001b[0m\u001b[0;34m(\u001b[0m\u001b[0magent\u001b[0m\u001b[0;34m,\u001b[0m \u001b[0mmaze\u001b[0m\u001b[0;34m,\u001b[0m \u001b[0mnum_episodes\u001b[0m\u001b[0;34m=\u001b[0m\u001b[0;36m50\u001b[0m\u001b[0;34m)\u001b[0m\u001b[0;34m\u001b[0m\u001b[0;34m\u001b[0m\u001b[0m\n\u001b[0m",
            "\u001b[0;32m<ipython-input-23-8b468e634a8f>\u001b[0m in \u001b[0;36mtest_agent\u001b[0;34m(agent, maze, num_episodes)\u001b[0m\n\u001b[1;32m      1\u001b[0m \u001b[0;31m# This function evaluates an agent's performance in the maze\u001b[0m\u001b[0;34m\u001b[0m\u001b[0;34m\u001b[0m\u001b[0m\n\u001b[1;32m      2\u001b[0m \u001b[0;32mdef\u001b[0m \u001b[0mtest_agent\u001b[0m\u001b[0;34m(\u001b[0m\u001b[0magent\u001b[0m\u001b[0;34m,\u001b[0m \u001b[0mmaze\u001b[0m\u001b[0;34m,\u001b[0m \u001b[0mnum_episodes\u001b[0m\u001b[0;34m=\u001b[0m\u001b[0;36m1\u001b[0m\u001b[0;34m)\u001b[0m\u001b[0;34m:\u001b[0m\u001b[0;34m\u001b[0m\u001b[0;34m\u001b[0m\u001b[0m\n\u001b[0;32m----> 3\u001b[0;31m     \u001b[0mepisode_reward\u001b[0m\u001b[0;34m,\u001b[0m \u001b[0mepisode_step\u001b[0m\u001b[0;34m,\u001b[0m \u001b[0mpath\u001b[0m \u001b[0;34m=\u001b[0m \u001b[0mfinish_episode\u001b[0m\u001b[0;34m(\u001b[0m\u001b[0magent\u001b[0m\u001b[0;34m,\u001b[0m \u001b[0mmaze\u001b[0m\u001b[0;34m,\u001b[0m \u001b[0mnum_episodes\u001b[0m\u001b[0;34m,\u001b[0m \u001b[0mtrain\u001b[0m\u001b[0;34m=\u001b[0m\u001b[0;32mFalse\u001b[0m\u001b[0;34m)\u001b[0m\u001b[0;34m\u001b[0m\u001b[0;34m\u001b[0m\u001b[0m\n\u001b[0m\u001b[1;32m      4\u001b[0m \u001b[0;34m\u001b[0m\u001b[0m\n\u001b[1;32m      5\u001b[0m     \u001b[0;31m# Print the Learned path of the agent\u001b[0m\u001b[0;34m\u001b[0m\u001b[0;34m\u001b[0m\u001b[0m\n",
            "\u001b[0;32m<ipython-input-22-3463484398e1>\u001b[0m in \u001b[0;36mfinish_episode\u001b[0;34m(agent, maze, current_episode, train)\u001b[0m\n\u001b[1;32m      9\u001b[0m     \u001b[0;32mwhile\u001b[0m \u001b[0;32mnot\u001b[0m \u001b[0mis_done\u001b[0m\u001b[0;34m:\u001b[0m\u001b[0;34m\u001b[0m\u001b[0;34m\u001b[0m\u001b[0m\n\u001b[1;32m     10\u001b[0m         \u001b[0;31m# Agent's action for current state\u001b[0m\u001b[0;34m\u001b[0m\u001b[0;34m\u001b[0m\u001b[0m\n\u001b[0;32m---> 11\u001b[0;31m         \u001b[0maction\u001b[0m \u001b[0;34m=\u001b[0m \u001b[0magent\u001b[0m\u001b[0;34m.\u001b[0m\u001b[0mget_action\u001b[0m\u001b[0;34m(\u001b[0m\u001b[0mcurrent_state\u001b[0m\u001b[0;34m,\u001b[0m \u001b[0mcurrent_episode\u001b[0m\u001b[0;34m)\u001b[0m\u001b[0;34m\u001b[0m\u001b[0;34m\u001b[0m\u001b[0m\n\u001b[0m\u001b[1;32m     12\u001b[0m \u001b[0;34m\u001b[0m\u001b[0m\n\u001b[1;32m     13\u001b[0m         \u001b[0mnext_state\u001b[0m \u001b[0;34m=\u001b[0m \u001b[0;34m(\u001b[0m\u001b[0mcurrent_state\u001b[0m\u001b[0;34m[\u001b[0m\u001b[0;36m0\u001b[0m\u001b[0;34m]\u001b[0m \u001b[0;34m+\u001b[0m \u001b[0mactions\u001b[0m\u001b[0;34m[\u001b[0m\u001b[0maction\u001b[0m\u001b[0;34m]\u001b[0m\u001b[0;34m[\u001b[0m\u001b[0;36m0\u001b[0m\u001b[0;34m]\u001b[0m\u001b[0;34m,\u001b[0m \u001b[0mcurrent_state\u001b[0m\u001b[0;34m[\u001b[0m\u001b[0;36m1\u001b[0m\u001b[0;34m]\u001b[0m \u001b[0;34m+\u001b[0m \u001b[0mactions\u001b[0m\u001b[0;34m[\u001b[0m\u001b[0maction\u001b[0m\u001b[0;34m]\u001b[0m\u001b[0;34m[\u001b[0m\u001b[0;36m1\u001b[0m\u001b[0;34m]\u001b[0m\u001b[0;34m)\u001b[0m\u001b[0;34m\u001b[0m\u001b[0;34m\u001b[0m\u001b[0m\n",
            "\u001b[0;32m<ipython-input-20-44c4189e0dd0>\u001b[0m in \u001b[0;36mget_action\u001b[0;34m(self, state, current_episode)\u001b[0m\n\u001b[1;32m     20\u001b[0m \u001b[0;34m\u001b[0m\u001b[0m\n\u001b[1;32m     21\u001b[0m     \u001b[0;32mdef\u001b[0m \u001b[0mget_action\u001b[0m\u001b[0;34m(\u001b[0m\u001b[0mself\u001b[0m\u001b[0;34m,\u001b[0m \u001b[0mstate\u001b[0m\u001b[0;34m,\u001b[0m \u001b[0mcurrent_episode\u001b[0m\u001b[0;34m)\u001b[0m\u001b[0;34m:\u001b[0m\u001b[0;34m\u001b[0m\u001b[0;34m\u001b[0m\u001b[0m\n\u001b[0;32m---> 22\u001b[0;31m       \u001b[0mexploration_rate\u001b[0m \u001b[0;34m=\u001b[0m \u001b[0mself\u001b[0m\u001b[0;34m.\u001b[0m\u001b[0mget_exploration_rate\u001b[0m\u001b[0;34m(\u001b[0m\u001b[0mcurrent_episode\u001b[0m\u001b[0;34m)\u001b[0m\u001b[0;34m\u001b[0m\u001b[0;34m\u001b[0m\u001b[0m\n\u001b[0m\u001b[1;32m     23\u001b[0m       \u001b[0;31m# Select an action for the given state either randomly(exploration) od using Q-table(exploitation)\u001b[0m\u001b[0;34m\u001b[0m\u001b[0;34m\u001b[0m\u001b[0m\n\u001b[1;32m     24\u001b[0m       \u001b[0;32mif\u001b[0m \u001b[0mnp\u001b[0m\u001b[0;34m.\u001b[0m\u001b[0mrandom\u001b[0m\u001b[0;34m.\u001b[0m\u001b[0mrand\u001b[0m\u001b[0;34m(\u001b[0m\u001b[0;34m)\u001b[0m \u001b[0;34m<\u001b[0m \u001b[0mexploration_rate\u001b[0m\u001b[0;34m:\u001b[0m\u001b[0;34m\u001b[0m\u001b[0;34m\u001b[0m\u001b[0m\n",
            "\u001b[0;32m<ipython-input-20-44c4189e0dd0>\u001b[0m in \u001b[0;36mget_exploration_rate\u001b[0;34m(self, current_episode)\u001b[0m\n\u001b[1;32m     14\u001b[0m       \u001b[0mself\u001b[0m\u001b[0;34m.\u001b[0m\u001b[0mnum_episodes\u001b[0m \u001b[0;34m=\u001b[0m \u001b[0mnum_episodes\u001b[0m\u001b[0;34m\u001b[0m\u001b[0;34m\u001b[0m\u001b[0m\n\u001b[1;32m     15\u001b[0m \u001b[0;34m\u001b[0m\u001b[0m\n\u001b[0;32m---> 16\u001b[0;31m     \u001b[0;32mdef\u001b[0m \u001b[0mget_exploration_rate\u001b[0m\u001b[0;34m(\u001b[0m\u001b[0mself\u001b[0m\u001b[0;34m,\u001b[0m \u001b[0mcurrent_episode\u001b[0m\u001b[0;34m)\u001b[0m\u001b[0;34m:\u001b[0m\u001b[0;34m\u001b[0m\u001b[0;34m\u001b[0m\u001b[0m\n\u001b[0m\u001b[1;32m     17\u001b[0m       \u001b[0;31m# Calculate the current exploration rate\u001b[0m\u001b[0;34m\u001b[0m\u001b[0;34m\u001b[0m\u001b[0m\n\u001b[1;32m     18\u001b[0m       \u001b[0mexploration_rate\u001b[0m \u001b[0;34m=\u001b[0m \u001b[0mself\u001b[0m\u001b[0;34m.\u001b[0m\u001b[0mexploration_start\u001b[0m \u001b[0;34m*\u001b[0m \u001b[0;34m(\u001b[0m\u001b[0mself\u001b[0m\u001b[0;34m.\u001b[0m\u001b[0mexploration_end\u001b[0m \u001b[0;34m/\u001b[0m \u001b[0mself\u001b[0m\u001b[0;34m.\u001b[0m\u001b[0mexploration_start\u001b[0m\u001b[0;34m)\u001b[0m \u001b[0;34m**\u001b[0m \u001b[0;34m(\u001b[0m\u001b[0mcurrent_episode\u001b[0m \u001b[0;34m/\u001b[0m \u001b[0mself\u001b[0m\u001b[0;34m.\u001b[0m\u001b[0mnum_episodes\u001b[0m\u001b[0;34m)\u001b[0m\u001b[0;34m\u001b[0m\u001b[0;34m\u001b[0m\u001b[0m\n",
            "\u001b[0;31mKeyboardInterrupt\u001b[0m: "
          ]
        }
      ]
    },
    {
      "cell_type": "code",
      "source": [],
      "metadata": {
        "id": "TI44VelwhDid"
      },
      "execution_count": null,
      "outputs": []
    }
  ]
}